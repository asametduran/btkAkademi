{
 "cells": [
  {
   "cell_type": "code",
   "execution_count": null,
   "id": "a34c62b2-396a-4fa8-b00b-783d7d366f6b",
   "metadata": {},
   "outputs": [],
   "source": [
    "arabalar = ['BMW', 'Mercedes','Opel','Mazda']"
   ]
  },
  {
   "cell_type": "code",
   "execution_count": null,
   "id": "03293e3e-75b2-4316-94a9-cd1079abdd54",
   "metadata": {},
   "outputs": [],
   "source": [
    "result = len(arabalar)"
   ]
  },
  {
   "cell_type": "code",
   "execution_count": null,
   "id": "a9aef068-3dae-4fc7-89b4-688a357dc178",
   "metadata": {},
   "outputs": [],
   "source": []
  }
 ],
 "metadata": {
  "kernelspec": {
   "display_name": "Python 3 (ipykernel)",
   "language": "python",
   "name": "python3"
  },
  "language_info": {
   "name": ""
  }
 },
 "nbformat": 4,
 "nbformat_minor": 5
}
